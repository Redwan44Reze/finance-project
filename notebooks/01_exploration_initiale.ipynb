{
 "cells": [
  {
   "cell_type": "markdown",
   "id": "774da4ec",
   "metadata": {},
   "source": [
    "Notebook destiné aux tests d'exploration de données des comptes de dépenses des communes entre 2017 et 2023"
   ]
  },
  {
   "cell_type": "markdown",
   "id": "8f81ff83",
   "metadata": {},
   "source": [
    "Ci-dessous le code d'une extraction de données des 100 premières lignes des comptes du département Loire-Atlantique via une API créant un fichier csv avec ces données."
   ]
  },
  {
   "cell_type": "code",
   "execution_count": 45,
   "id": "0103d9ad",
   "metadata": {},
   "outputs": [],
   "source": [
    "import csv\n",
    "import requests\n",
    "\n",
    "URL = \"https://data.ofgl.fr/api/explore/v2.1/catalog/datasets/ofgl-base-communes/records?where=dep_name%20%3D%20'Loire-Atlantique'\"\n",
    "response = requests.get(URL + \"&limit=100&offset=0\")\n",
    "response.raise_for_status()\n",
    "data1 = response.json().get(\"results\", [])\n",
    "\n",
    "\n",
    "with open('../communes_loire-atlantique_2023.csv', 'w', newline='') as csvfile:\n",
    "    spamwriter = csv.writer(csvfile, \n",
    "                            delimiter=';',\n",
    "                            quotechar='|', \n",
    "                            quoting=csv.QUOTE_MINIMAL)\n",
    "    \n",
    "    spamwriter.writerow(data1[0].keys())\n",
    "    \n",
    "    for i in range(len(data1)):\n",
    "        spamwriter.writerow(data1[i].values())"
   ]
  },
  {
   "cell_type": "markdown",
   "id": "f68c62f9",
   "metadata": {},
   "source": [
    "Affichage des informations principales des données extraites"
   ]
  },
  {
   "cell_type": "markdown",
   "id": "9bfe9f08",
   "metadata": {},
   "source": [
    "Noms et quantité des colonnes et des lignes"
   ]
  },
  {
   "cell_type": "code",
   "execution_count": 96,
   "id": "ea7fb330",
   "metadata": {},
   "outputs": [
    {
     "name": "stdout",
     "output_type": "stream",
     "text": [
      "Index(['exer', 'outre_mer', 'reg_code', 'reg_name', 'dep_code', 'dep_name',\n",
      "       'epci_code', 'epci_name', 'tranche_population', 'rural', 'montagne',\n",
      "       'touristique', 'tranche_revenu_imposable_par_habitant', 'qpv',\n",
      "       'com_code', 'com_name', 'categ', 'siren', 'insee', 'ident', 'lbudg',\n",
      "       'type_de_budget', 'nomen', 'agregat', 'montant', 'montant_en_millions',\n",
      "       'ptot', 'euros_par_habitant', 'presence_budget', 'cbudg',\n",
      "       'ordre_analyse1_section1', 'ordre_analyse1_section2',\n",
      "       'ordre_analyse1_section3', 'ordre_analyse2_section1',\n",
      "       'ordre_analyse2_section2', 'ordre_analyse2_section3',\n",
      "       'ordre_analyse3_section1', 'ordre_analyse3_section2',\n",
      "       'ordre_analyse3_section3', 'ordre_analyse4_section1', 'annee_join',\n",
      "       'ptot_n'],\n",
      "      dtype='object')\n",
      "RangeIndex(start=0, stop=101, step=1)\n",
      "(101, 42)\n"
     ]
    }
   ],
   "source": [
    "import pandas as pd\n",
    "\n",
    "# Affiche toutes les lignes\n",
    "pd.set_option('display.max_rows', None)\n",
    "\n",
    "# Affiche toutes les colonnes\n",
    "pd.set_option('display.max_columns', None)\n",
    "pd.set_option('display.width', None)         \n",
    "# Évite de tronquer les valeurs longues dans une cellule\n",
    "pd.set_option('display.max_colwidth', None)\n",
    "\n",
    "df = pd.read_csv('../communes_loire-atlantique_2023.csv', delimiter=';', encoding='ISO 8859-1')\n",
    "df.head()\n",
    "\n",
    "print(df.columns)\n",
    "print(df.index)\n",
    "print(df.shape)\n",
    "\n",
    "\n"
   ]
  },
  {
   "cell_type": "markdown",
   "id": "52e7041d",
   "metadata": {},
   "source": [
    "Noms des colonnes ayant des valeurs nulles"
   ]
  },
  {
   "cell_type": "code",
   "execution_count": 97,
   "id": "9c1eaa8d",
   "metadata": {},
   "outputs": [
    {
     "name": "stdout",
     "output_type": "stream",
     "text": [
      "ordre_analyse1_section1\n",
      "ordre_analyse1_section3\n",
      "ordre_analyse2_section1\n",
      "ordre_analyse3_section1\n",
      "ordre_analyse3_section2\n",
      "ordre_analyse3_section3\n",
      "ordre_analyse4_section1\n"
     ]
    }
   ],
   "source": [
    "for column in df.columns:\n",
    "    if(df[column].count() < 100):\n",
    "        print(column)\n",
    "\n"
   ]
  },
  {
   "cell_type": "markdown",
   "id": "5690e6bd",
   "metadata": {},
   "source": [
    "Numéros des lignes dupliquées"
   ]
  },
  {
   "cell_type": "code",
   "execution_count": 98,
   "id": "e0cbcd30",
   "metadata": {},
   "outputs": [
    {
     "name": "stdout",
     "output_type": "stream",
     "text": [
      "Index([], dtype='int64')\n"
     ]
    }
   ],
   "source": [
    "print(df[df.duplicated()].index)"
   ]
  },
  {
   "cell_type": "markdown",
   "id": "cc0cb8b5",
   "metadata": {},
   "source": [
    "Extraction de la première ligne du DataFrame"
   ]
  },
  {
   "cell_type": "code",
   "execution_count": 99,
   "id": "cd7da463",
   "metadata": {},
   "outputs": [
    {
     "name": "stdout",
     "output_type": "stream",
     "text": [
      "exer                                                                                   2020.0\n",
      "outre_mer                                                                                 Non\n",
      "reg_code                                                                                 52.0\n",
      "reg_name                                                                     Pays de la Loire\n",
      "dep_code                                                                                 44.0\n",
      "dep_name                                                                     Loire-Atlantique\n",
      "epci_code                                                                         200067346.0\n",
      "epci_name                                Communauté d'agglomération Pornic Agglo Pays de Retz\n",
      "tranche_population                                                                        6.0\n",
      "rural                                                                                     Oui\n",
      "montagne                                                                                  Non\n",
      "touristique                                                                               Non\n",
      "tranche_revenu_imposable_par_habitant                                                     2.0\n",
      "qpv                                                                                       Non\n",
      "com_code                                                                              44021.0\n",
      "com_name                                                                   Villeneuve-en-Retz\n",
      "categ                                                                                 Commune\n",
      "siren                                                                             200054229.0\n",
      "insee                                                                                 44021.0\n",
      "ident                                                                             2,00054E+13\n",
      "lbudg                                                                      VILLENEUVE-EN-RETZ\n",
      "type_de_budget                                                               Budget principal\n",
      "nomen                                                                                     M14\n",
      "agregat                                                            Dépenses de fonctionnement\n",
      "montant                                                                            3131102.08\n",
      "montant_en_millions                                                                  3.131102\n",
      "ptot                                                                                   4982.0\n",
      "euros_par_habitant                                                                 628.482955\n",
      "presence_budget                                                                           1.0\n",
      "cbudg                                                                                     1.0\n",
      "ordre_analyse1_section1                                                                   NaN\n",
      "ordre_analyse1_section2                                                                   4.0\n",
      "ordre_analyse1_section3                                                                   NaN\n",
      "ordre_analyse2_section1                                                                   NaN\n",
      "ordre_analyse2_section2                                                                   1.0\n",
      "ordre_analyse2_section3                                                                   2.0\n",
      "ordre_analyse3_section1                                                                   NaN\n",
      "ordre_analyse3_section2                                                                   NaN\n",
      "ordre_analyse3_section3                                                                   NaN\n",
      "ordre_analyse4_section1                                                                   NaN\n",
      "annee_join                                                                             2020.0\n",
      "ptot_n                                                                                 5090.0\n",
      "Name: 0, dtype: object\n"
     ]
    }
   ],
   "source": [
    "print(df.iloc[0])"
   ]
  }
 ],
 "metadata": {
  "kernelspec": {
   "display_name": ".venv",
   "language": "python",
   "name": "python3"
  },
  "language_info": {
   "codemirror_mode": {
    "name": "ipython",
    "version": 3
   },
   "file_extension": ".py",
   "mimetype": "text/x-python",
   "name": "python",
   "nbconvert_exporter": "python",
   "pygments_lexer": "ipython3",
   "version": "3.10.0"
  }
 },
 "nbformat": 4,
 "nbformat_minor": 5
}
